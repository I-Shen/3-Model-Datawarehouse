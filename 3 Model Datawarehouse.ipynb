{
 "cells": [
  {
   "cell_type": "markdown",
   "metadata": {},
   "source": [
    "# 3 MODEL DATAWAREHOUSE"
   ]
  },
  {
   "cell_type": "code",
   "execution_count": 1,
   "metadata": {},
   "outputs": [
    {
     "name": "stdout",
     "output_type": "stream"
    }
   ],
   "source": [
    "pip install mysql-connector-python-rf"
   ]
  },
  {
   "cell_type": "code",
   "execution_count": 2,
   "metadata": {},
   "outputs": [],
   "source": [
    "import os\n",
    "import mysql.connector\n",
    "import pandas as pd"
   ]
  },
  {
   "cell_type": "markdown",
   "metadata": {},
   "source": [
    "# MODEL STAR"
   ]
  },
  {
   "cell_type": "code",
   "execution_count": 3,
   "metadata": {},
   "outputs": [],
   "source": [
    "connection1 = mysql.connector.connect(host='localhost', user='root', passwd= '', db='starschema')"
   ]
  },
  {
   "cell_type": "code",
   "execution_count": 4,
   "metadata": {},
   "outputs": [
    {
     "data": {
      "text/plain": [
       "<mysql.connector.connection.MySQLConnection at 0x1d668a57b80>"
      ]
     },
     "execution_count": 4,
     "metadata": {},
     "output_type": "execute_result"
    }
   ],
   "source": [
    "connection1"
   ]
  },
  {
   "cell_type": "code",
   "execution_count": 5,
   "metadata": {},
   "outputs": [],
   "source": [
    "query1 = '''select d.id_data_kelas, i.nama, k.matkul\n",
    "           from data_kelas d\n",
    "           inner join identitas i\n",
    "                on (d.id_identitas = i.id)\n",
    "           inner join kelas k\n",
    "                on (d.id_kelas = k.id)'''"
   ]
  },
  {
   "cell_type": "code",
   "execution_count": 6,
   "metadata": {
    "scrolled": true
   },
   "outputs": [
    {
     "data": {
      "text/html": [
       "<div>\n",
       "<style scoped>\n",
       "    .dataframe tbody tr th:only-of-type {\n",
       "        vertical-align: middle;\n",
       "    }\n",
       "\n",
       "    .dataframe tbody tr th {\n",
       "        vertical-align: top;\n",
       "    }\n",
       "\n",
       "    .dataframe thead th {\n",
       "        text-align: right;\n",
       "    }\n",
       "</style>\n",
       "<table border=\"1\" class=\"dataframe\">\n",
       "  <thead>\n",
       "    <tr style=\"text-align: right;\">\n",
       "      <th></th>\n",
       "      <th>id_data_kelas</th>\n",
       "      <th>nama</th>\n",
       "      <th>matkul</th>\n",
       "    </tr>\n",
       "  </thead>\n",
       "  <tbody>\n",
       "    <tr>\n",
       "      <th>0</th>\n",
       "      <td>1</td>\n",
       "      <td>Testing1</td>\n",
       "      <td>Kelas1</td>\n",
       "    </tr>\n",
       "    <tr>\n",
       "      <th>1</th>\n",
       "      <td>2</td>\n",
       "      <td>Testing1</td>\n",
       "      <td>Kelas2</td>\n",
       "    </tr>\n",
       "    <tr>\n",
       "      <th>2</th>\n",
       "      <td>3</td>\n",
       "      <td>Testing2</td>\n",
       "      <td>Kelas3</td>\n",
       "    </tr>\n",
       "    <tr>\n",
       "      <th>3</th>\n",
       "      <td>4</td>\n",
       "      <td>Testing2</td>\n",
       "      <td>Kelas1</td>\n",
       "    </tr>\n",
       "    <tr>\n",
       "      <th>4</th>\n",
       "      <td>5</td>\n",
       "      <td>Testing3</td>\n",
       "      <td>Kelas1</td>\n",
       "    </tr>\n",
       "  </tbody>\n",
       "</table>\n",
       "</div>"
      ],
      "text/plain": [
       "   id_data_kelas      nama  matkul\n",
       "0              1  Testing1  Kelas1\n",
       "1              2  Testing1  Kelas2\n",
       "2              3  Testing2  Kelas3\n",
       "3              4  Testing2  Kelas1\n",
       "4              5  Testing3  Kelas1"
      ]
     },
     "execution_count": 6,
     "metadata": {},
     "output_type": "execute_result"
    }
   ],
   "source": [
    "percobaan1 = pd.read_sql_query(query1, connection1)\n",
    "percobaan1"
   ]
  },
  {
   "cell_type": "markdown",
   "metadata": {},
   "source": [
    "# MODEL SNOWFLAKE"
   ]
  },
  {
   "cell_type": "code",
   "execution_count": 7,
   "metadata": {},
   "outputs": [],
   "source": [
    "connection2 = mysql.connector.connect(host='localhost', user='root', passwd= '', db='snowschema')"
   ]
  },
  {
   "cell_type": "code",
   "execution_count": 8,
   "metadata": {},
   "outputs": [
    {
     "data": {
      "text/plain": [
       "<mysql.connector.connection.MySQLConnection at 0x1d66c2183d0>"
      ]
     },
     "execution_count": 8,
     "metadata": {},
     "output_type": "execute_result"
    }
   ],
   "source": [
    "connection2"
   ]
  },
  {
   "cell_type": "code",
   "execution_count": 32,
   "metadata": {},
   "outputs": [],
   "source": [
    "query2 = '''select d2.id_data_kelas, m2.nama, k2.matkul ,m2.nama_jenis_kelamin\n",
    "            from data_kelas d2\n",
    "            inner join kelas k2\n",
    "                on (d2.id_kelas = k2.id)\n",
    "            inner join (select i.id, i.nama, j.nama_jenis_kelamin\n",
    "            from identitas i \n",
    "            inner join jenis_kelamin j\n",
    "                on (i.id_jk = j.id)) m2'''"
   ]
  },
  {
   "cell_type": "code",
   "execution_count": 33,
   "metadata": {},
   "outputs": [
    {
     "data": {
      "text/html": [
       "<div>\n",
       "<style scoped>\n",
       "    .dataframe tbody tr th:only-of-type {\n",
       "        vertical-align: middle;\n",
       "    }\n",
       "\n",
       "    .dataframe tbody tr th {\n",
       "        vertical-align: top;\n",
       "    }\n",
       "\n",
       "    .dataframe thead th {\n",
       "        text-align: right;\n",
       "    }\n",
       "</style>\n",
       "<table border=\"1\" class=\"dataframe\">\n",
       "  <thead>\n",
       "    <tr style=\"text-align: right;\">\n",
       "      <th></th>\n",
       "      <th>id_data_kelas</th>\n",
       "      <th>nama</th>\n",
       "      <th>matkul</th>\n",
       "      <th>nama_jenis_kelamin</th>\n",
       "    </tr>\n",
       "  </thead>\n",
       "  <tbody>\n",
       "    <tr>\n",
       "      <th>0</th>\n",
       "      <td>2</td>\n",
       "      <td>Testing1</td>\n",
       "      <td>Kelas1</td>\n",
       "      <td>laki-laki</td>\n",
       "    </tr>\n",
       "    <tr>\n",
       "      <th>1</th>\n",
       "      <td>1</td>\n",
       "      <td>Testing1</td>\n",
       "      <td>Kelas2</td>\n",
       "      <td>laki-laki</td>\n",
       "    </tr>\n",
       "    <tr>\n",
       "      <th>2</th>\n",
       "      <td>3</td>\n",
       "      <td>Testing1</td>\n",
       "      <td>Kelas2</td>\n",
       "      <td>laki-laki</td>\n",
       "    </tr>\n",
       "    <tr>\n",
       "      <th>3</th>\n",
       "      <td>4</td>\n",
       "      <td>Testing1</td>\n",
       "      <td>Kelas3</td>\n",
       "      <td>laki-laki</td>\n",
       "    </tr>\n",
       "    <tr>\n",
       "      <th>4</th>\n",
       "      <td>5</td>\n",
       "      <td>Testing1</td>\n",
       "      <td>Kelas3</td>\n",
       "      <td>laki-laki</td>\n",
       "    </tr>\n",
       "    <tr>\n",
       "      <th>5</th>\n",
       "      <td>2</td>\n",
       "      <td>Testing2</td>\n",
       "      <td>Kelas1</td>\n",
       "      <td>perempuan</td>\n",
       "    </tr>\n",
       "    <tr>\n",
       "      <th>6</th>\n",
       "      <td>1</td>\n",
       "      <td>Testing2</td>\n",
       "      <td>Kelas2</td>\n",
       "      <td>perempuan</td>\n",
       "    </tr>\n",
       "    <tr>\n",
       "      <th>7</th>\n",
       "      <td>3</td>\n",
       "      <td>Testing2</td>\n",
       "      <td>Kelas2</td>\n",
       "      <td>perempuan</td>\n",
       "    </tr>\n",
       "    <tr>\n",
       "      <th>8</th>\n",
       "      <td>4</td>\n",
       "      <td>Testing2</td>\n",
       "      <td>Kelas3</td>\n",
       "      <td>perempuan</td>\n",
       "    </tr>\n",
       "    <tr>\n",
       "      <th>9</th>\n",
       "      <td>5</td>\n",
       "      <td>Testing2</td>\n",
       "      <td>Kelas3</td>\n",
       "      <td>perempuan</td>\n",
       "    </tr>\n",
       "    <tr>\n",
       "      <th>10</th>\n",
       "      <td>2</td>\n",
       "      <td>Testing3</td>\n",
       "      <td>Kelas1</td>\n",
       "      <td>laki-laki</td>\n",
       "    </tr>\n",
       "    <tr>\n",
       "      <th>11</th>\n",
       "      <td>1</td>\n",
       "      <td>Testing3</td>\n",
       "      <td>Kelas2</td>\n",
       "      <td>laki-laki</td>\n",
       "    </tr>\n",
       "    <tr>\n",
       "      <th>12</th>\n",
       "      <td>3</td>\n",
       "      <td>Testing3</td>\n",
       "      <td>Kelas2</td>\n",
       "      <td>laki-laki</td>\n",
       "    </tr>\n",
       "    <tr>\n",
       "      <th>13</th>\n",
       "      <td>4</td>\n",
       "      <td>Testing3</td>\n",
       "      <td>Kelas3</td>\n",
       "      <td>laki-laki</td>\n",
       "    </tr>\n",
       "    <tr>\n",
       "      <th>14</th>\n",
       "      <td>5</td>\n",
       "      <td>Testing3</td>\n",
       "      <td>Kelas3</td>\n",
       "      <td>laki-laki</td>\n",
       "    </tr>\n",
       "  </tbody>\n",
       "</table>\n",
       "</div>"
      ],
      "text/plain": [
       "    id_data_kelas      nama  matkul nama_jenis_kelamin\n",
       "0               2  Testing1  Kelas1          laki-laki\n",
       "1               1  Testing1  Kelas2          laki-laki\n",
       "2               3  Testing1  Kelas2          laki-laki\n",
       "3               4  Testing1  Kelas3          laki-laki\n",
       "4               5  Testing1  Kelas3          laki-laki\n",
       "5               2  Testing2  Kelas1          perempuan\n",
       "6               1  Testing2  Kelas2          perempuan\n",
       "7               3  Testing2  Kelas2          perempuan\n",
       "8               4  Testing2  Kelas3          perempuan\n",
       "9               5  Testing2  Kelas3          perempuan\n",
       "10              2  Testing3  Kelas1          laki-laki\n",
       "11              1  Testing3  Kelas2          laki-laki\n",
       "12              3  Testing3  Kelas2          laki-laki\n",
       "13              4  Testing3  Kelas3          laki-laki\n",
       "14              5  Testing3  Kelas3          laki-laki"
      ]
     },
     "execution_count": 33,
     "metadata": {},
     "output_type": "execute_result"
    }
   ],
   "source": [
    "percobaan2 = pd.read_sql_query(query2, connection2)\n",
    "percobaan2"
   ]
  },
  {
   "cell_type": "code",
   "execution_count": null,
   "metadata": {},
   "outputs": [],
   "source": []
  }
 ],
 "metadata": {
  "kernelspec": {
   "display_name": "Python 3",
   "language": "python",
   "name": "python3"
  },
  "language_info": {
   "codemirror_mode": {
    "name": "ipython",
    "version": 3
   },
   "file_extension": ".py",
   "mimetype": "text/x-python",
   "name": "python",
   "nbconvert_exporter": "python",
   "pygments_lexer": "ipython3",
   "version": "3.8.3"
  }
 },
 "nbformat": 4,
 "nbformat_minor": 4
}
